{
 "cells": [
  {
   "cell_type": "code",
   "execution_count": 1,
   "metadata": {},
   "outputs": [],
   "source": [
    "import cv2\n",
    "\n",
    "def colourBGRToGrayConversion(colourImage):\n",
    "    \n",
    "    #The read image is converted to a grayscale image\n",
    "    grayscaleImage = cv2.cvtColor(colourImage, cv2.COLOR_BGR2GRAY)\n",
    "    \n",
    "    print('ColourSpaceConversionUtil ---- Colour BGR image has been successfully converted to grayscale.')\n",
    "    \n",
    "    return grayscaleImage;\n",
    "\n",
    "def colourBGRToRGBConversion(colourImagePath):\n",
    "    \n",
    "    #Reading the original, colour image from its location\n",
    "    colourImage = cv2.imread(colourImagePath)\n",
    "    \n",
    "    #The read image is converted to a RGB image\n",
    "    rgbImage = cv2.cvtColor(colourImage, cv2.COLOR_BGR2RGB)\n",
    "    \n",
    "    print('ColourSpaceConversionUtil ---- Colour BGR image has been successfully converted to RGB image.')\n",
    "    \n",
    "    return rgbImage;\n",
    "\n",
    "def colourRGBToGrayConversion(colourRGBImage):    \n",
    "    #The image is converted to a grayscale image\n",
    "    grayscaleImage = cv2.cvtColor(colourRGBImage, cv2.COLOR_RGB2GRAY)\n",
    "    \n",
    "    print('ColourSpaceConversionUtil ---- Colour RGB image has been successfully converted to grayscale.')\n",
    "    \n",
    "    return grayscaleImage;"
   ]
  }
 ],
 "metadata": {
  "kernelspec": {
   "display_name": "Python 3",
   "language": "python",
   "name": "python3"
  },
  "language_info": {
   "codemirror_mode": {
    "name": "ipython",
    "version": 3
   },
   "file_extension": ".py",
   "mimetype": "text/x-python",
   "name": "python",
   "nbconvert_exporter": "python",
   "pygments_lexer": "ipython3",
   "version": "3.7.10"
  }
 },
 "nbformat": 4,
 "nbformat_minor": 4
}
