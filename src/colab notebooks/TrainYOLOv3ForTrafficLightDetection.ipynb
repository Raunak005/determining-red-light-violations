{
 "cells": [
  {
   "cell_type": "code",
   "execution_count": null,
   "metadata": {
    "colab": {
     "base_uri": "https://localhost:8080/"
    },
    "id": "bwp6NIrsZZFP",
    "outputId": "d303d3da-ec6e-4e7b-cb54-b92c5bbc6378"
   },
   "outputs": [],
   "source": [
    "# This notebook is to be run only on Google Colaboratory primarily because of the GPU requirements\n",
    "\n",
    "# Verify if the Nvidia GPU is enabled\n",
    "!nvidia-smi"
   ]
  },
  {
   "cell_type": "code",
   "execution_count": null,
   "metadata": {
    "colab": {
     "base_uri": "https://localhost:8080/"
    },
    "id": "9e9ZW3sqMEPO",
    "outputId": "4aa5a9af-6a3d-4ce4-a27c-f10437a7bf60"
   },
   "outputs": [],
   "source": [
    "# Mount the Google drive to the Google colab\n",
    "from google.colab import drive\n",
    "drive.mount('/content/gdrive')\n",
    "!ln -s /content/gdrive/My\\ Drive/ /mydrive\n",
    "!ls /mydrive"
   ]
  },
  {
   "cell_type": "code",
   "execution_count": null,
   "metadata": {
    "colab": {
     "base_uri": "https://localhost:8080/"
    },
    "id": "e03U7Zi-qMr2",
    "outputId": "0febf154-c68d-4bbe-9c85-d014a4038158"
   },
   "outputs": [],
   "source": [
    "# Clone the Darknet's GitHub repository\n",
    "!git clone https://github.com/AlexeyAB/darknet"
   ]
  },
  {
   "cell_type": "code",
   "execution_count": null,
   "metadata": {
    "colab": {
     "base_uri": "https://localhost:8080/"
    },
    "id": "7hzfEWSuONhz",
    "outputId": "89b55a5e-e514-43dc-9e40-48f6355ada54"
   },
   "outputs": [],
   "source": [
    "# Change the directory to the new cloned repository\n",
    "%cd darknet\n",
    "\n",
    "# Enable the OPENCV, GPU and CUDNN in the Makefile\n",
    "!sed -i 's/OPENCV=0/OPENCV=1/' Makefile\n",
    "!sed -i 's/GPU=0/GPU=1/' Makefile\n",
    "!sed -i 's/CUDNN=0/CUDNN=1/' Makefile\n",
    "!make"
   ]
  },
  {
   "cell_type": "code",
   "execution_count": null,
   "metadata": {
    "id": "s-RpscgU853t"
   },
   "outputs": [],
   "source": [
    "# Configure the training configuration file\n",
    "!cp cfg/yolov3.cfg cfg/yolov3_training.cfg"
   ]
  },
  {
   "cell_type": "code",
   "execution_count": null,
   "metadata": {
    "id": "5ZgVQRop_vwR"
   },
   "outputs": [],
   "source": [
    "# Make these modifications in the training configuration file\n",
    "\n",
    "!sed -i 's/batch=1/batch=64/' cfg/yolov3_training.cfg\n",
    "!sed -i 's/subdivisions=1/subdivisions=16/' cfg/yolov3_training.cfg\n",
    "\n",
    "# The value of max_batches should be two thousand times the number of classes\n",
    "!sed -i 's/max_batches = 500200/max_batches = 6000/' cfg/yolov3_training.cfg\n",
    "\n",
    "!sed -i '610 s@classes=80@classes=3@' cfg/yolov3_training.cfg\n",
    "!sed -i '696 s@classes=80@classes=3@' cfg/yolov3_training.cfg\n",
    "!sed -i '783 s@classes=80@classes=3@' cfg/yolov3_training.cfg\n",
    "\n",
    "# The value of filters is 24 as there are three classes to be detected\n",
    "!sed -i '603 s@filters=255@filters=24@' cfg/yolov3_training.cfg\n",
    "!sed -i '689 s@filters=255@filters=24@' cfg/yolov3_training.cfg\n",
    "!sed -i '776 s@filters=255@filters=24@' cfg/yolov3_training.cfg"
   ]
  },
  {
   "cell_type": "code",
   "execution_count": null,
   "metadata": {
    "id": "7AIBw_psIclz"
   },
   "outputs": [],
   "source": [
    "# Create the \"obj.names\" file in the \"data\" folder\n",
    "!echo -e 'Green light\\nRed light\\nYellow light' > data/obj.names\n",
    "\n",
    "# Create the \"obj.data\" file in the \"data\" folder\n",
    "!echo -e 'classes= 3\\ntrain  = data/train.txt\\nvalid  = data/test.txt\\nnames = data/obj.names\\nbackup = /mydrive/yolov3' > data/obj.data"
   ]
  },
  {
   "cell_type": "code",
   "execution_count": null,
   "metadata": {
    "id": "67o96gV7L0Uv"
   },
   "outputs": [],
   "source": [
    "# Save the yolov3_training.cfg in Google drive\n",
    "!cp cfg/yolov3_training.cfg /mydrive/yolov3/yolov3_testing.cfg\n",
    "\n",
    "# Save the obj.names in Google drive\n",
    "!cp data/obj.names /mydrive/yolov3/classes.txt"
   ]
  },
  {
   "cell_type": "code",
   "execution_count": null,
   "metadata": {
    "colab": {
     "base_uri": "https://localhost:8080/"
    },
    "id": "eZlkzFMW7I_N",
    "outputId": "20ec2694-a620-4ee1-d01a-9d2e0fbc697c"
   },
   "outputs": [],
   "source": [
    "# Make a directory\n",
    "!mkdir data/obj\n",
    "\n",
    "# Unzip the training dataset from Google drive\n",
    "!unzip /mydrive/yolov3/images.zip -d data/obj"
   ]
  },
  {
   "cell_type": "code",
   "execution_count": null,
   "metadata": {
    "id": "DGUyXxeYX0IP"
   },
   "outputs": [],
   "source": [
    "# Write all the paths of the training images to the \"train.txt\" file\n",
    "import glob\n",
    "\n",
    "allTrainingImages = glob.glob(\"data/obj/*.jpg\")\n",
    "\n",
    "with open(\"data/train.txt\", \"w\") as f:\n",
    "    f.write(\"\\n\".join(allTrainingImages))"
   ]
  },
  {
   "cell_type": "code",
   "execution_count": null,
   "metadata": {
    "colab": {
     "base_uri": "https://localhost:8080/"
    },
    "id": "jhb5nZvsQ_96",
    "outputId": "4f9c065d-c4ab-4cf2-8aeb-bb3b1aaebc83"
   },
   "outputs": [],
   "source": [
    "# Get the darknet model 53's pre-trained weights for training\n",
    "!wget https://pjreddie.com/media/files/darknet53.conv.74"
   ]
  },
  {
   "cell_type": "code",
   "execution_count": null,
   "metadata": {
    "colab": {
     "base_uri": "https://localhost:8080/"
    },
    "id": "S3_g3jclUzMm",
    "outputId": "97f12aa9-bc38-434c-cb63-103f0f4f85a1"
   },
   "outputs": [],
   "source": [
    "# Train the object detection model. This usually takes several hours.\n",
    "!./darknet detector train data/obj.data cfg/yolov3_training.cfg darknet53.conv.74 -dont_show"
   ]
  }
 ],
 "metadata": {
  "accelerator": "GPU",
  "colab": {
   "collapsed_sections": [],
   "name": "Train_YoloV3_Traffic_light_detection.ipynb",
   "provenance": []
  },
  "kernelspec": {
   "display_name": "Python 3",
   "language": "python",
   "name": "python3"
  },
  "language_info": {
   "codemirror_mode": {
    "name": "ipython",
    "version": 3
   },
   "file_extension": ".py",
   "mimetype": "text/x-python",
   "name": "python",
   "nbconvert_exporter": "python",
   "pygments_lexer": "ipython3",
   "version": "3.7.10"
  }
 },
 "nbformat": 4,
 "nbformat_minor": 1
}
