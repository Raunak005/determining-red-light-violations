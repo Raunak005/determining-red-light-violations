{
 "cells": [
  {
   "cell_type": "code",
   "execution_count": null,
   "id": "ancient-monday",
   "metadata": {},
   "outputs": [],
   "source": [
    "import numpy as np\n",
    "import cv2\n",
    "\n",
    "def drawTheStopLine(trafficCameraImage, stopLine):\n",
    "    \n",
    "    # Copying the original image\n",
    "    trafficCameraImage = np.copy(trafficCameraImage)\n",
    "    \n",
    "    # Creating an empty image using numpy\n",
    "    emptyImage = np.zeros((trafficCameraImage.shape[0], trafficCameraImage.shape[1], 3), dtype=np.uint8)\n",
    "    \n",
    "    # Inserting all the lines on the empty image that was created above\n",
    "    for line in stopLine:\n",
    "        for x1, y1, x2, y2 in line:\n",
    "            cv2.line(emptyImage, (x1,y1), (x2,y2), (255, 255, 255), thickness=4)\n",
    "    \n",
    "    # Merging the empty image (with lines) with the original image using weights\n",
    "    trafficCameraImage = cv2.addWeighted(trafficCameraImage, 0.8, emptyImage, 1, 0.0)\n",
    "    \n",
    "    return trafficCameraImage"
   ]
  }
 ],
 "metadata": {
  "kernelspec": {
   "display_name": "Python 3",
   "language": "python",
   "name": "python3"
  },
  "language_info": {
   "codemirror_mode": {
    "name": "ipython",
    "version": 3
   },
   "file_extension": ".py",
   "mimetype": "text/x-python",
   "name": "python",
   "nbconvert_exporter": "python",
   "pygments_lexer": "ipython3",
   "version": "3.7.10"
  }
 },
 "nbformat": 4,
 "nbformat_minor": 5
}
