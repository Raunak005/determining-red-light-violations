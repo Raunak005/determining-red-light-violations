{
 "cells": [
  {
   "cell_type": "code",
   "execution_count": 8,
   "id": "dressed-florida",
   "metadata": {},
   "outputs": [],
   "source": [
    "import os\n",
    "import cv2\n",
    "import glob\n",
    "import numpy as np\n",
    "\n",
    "def getFramesFromVideo(videoFolder,imagesFolder):\n",
    "    \n",
    "    # A flag which signifies the completion of this method\n",
    "    completionFlag=False\n",
    "    \n",
    "    # Checking if the path of the video folder exists or not\n",
    "    if not os.path.exists(videoFolder):\n",
    "        print('DataCollectionUtil ---- The specified path does not exist!')\n",
    "    else:\n",
    "        files=glob.glob(videoFolder+\"/*.mp4\")\n",
    "        frameCount=1\n",
    "        \n",
    "        # Extracting the frames (images) from each and every video that is present within the folder\n",
    "        for file in files:\n",
    "            if file.lower().endswith(('.mp4')):\n",
    "                videoFile = os.path.join(videoFolder, file)\n",
    "                \n",
    "                print('DataCollectionUtil ---- Extracting frames from the file: ',file)\n",
    "                \n",
    "                video = cv2.VideoCapture(videoFile)\n",
    "                while (video.isOpened()):\n",
    "                    ret, frame = video.read()\n",
    "                    if np.shape(frame) == ():\n",
    "                        break\n",
    "                    else:\n",
    "                        cv2.imwrite(imagesFolder + \"\\\\Frame%d.jpg\" % frameCount, frame)\n",
    "                        frameCount+=1\n",
    "                        completionFlag=True\n",
    "    \n",
    "    return completionFlag"
   ]
  }
 ],
 "metadata": {
  "kernelspec": {
   "display_name": "Python 3",
   "language": "python",
   "name": "python3"
  },
  "language_info": {
   "codemirror_mode": {
    "name": "ipython",
    "version": 3
   },
   "file_extension": ".py",
   "mimetype": "text/x-python",
   "name": "python",
   "nbconvert_exporter": "python",
   "pygments_lexer": "ipython3",
   "version": "3.7.10"
  }
 },
 "nbformat": 4,
 "nbformat_minor": 5
}
