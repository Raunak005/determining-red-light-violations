{
 "cells": [
  {
   "cell_type": "code",
   "execution_count": 1,
   "id": "current-still",
   "metadata": {},
   "outputs": [],
   "source": [
    "import math\n",
    "\n",
    "class RoadUsersTrackingUtil:\n",
    "    def __init__(self):\n",
    "        # The center points of all the bounding boxes\n",
    "        self.boundingBoxCenterPoints = {}\n",
    "        \n",
    "        # The unique, tracking id assigned to each road user\n",
    "        self.roadUserTrackingId = 1\n",
    "\n",
    "    def getBoundingBoxIds(self, boundingBoxes):\n",
    "        crossedTrafficLightFlag=False\n",
    "        \n",
    "        # List to store the bounding box ids\n",
    "        boundingBoxIds = []\n",
    "\n",
    "        # Calculating the center point of each bounding box\n",
    "        for boundingBox in boundingBoxes:\n",
    "            x, y, w, h = boundingBox\n",
    "            centerX = (x + x + w) // 2\n",
    "            centerY = (y + y + h) // 2\n",
    "\n",
    "            # Checking to verify whether the road user was already detected\n",
    "            alreadyDetectedFlag = False\n",
    "            for id, point in self.boundingBoxCenterPoints.items():\n",
    "                # Calculating the Euclidean Distance\n",
    "                euclideanDistance = math.hypot(centerX - point[0], centerY - point[1])\n",
    "                \n",
    "                # If the Euclidean Distance is calculated as less than the 50, then the road user is considered \n",
    "                # to be already detected and tracked\n",
    "                if euclideanDistance < 50:\n",
    "                    self.boundingBoxCenterPoints[id] = (centerX, centerY)\n",
    "                    print(self.boundingBoxCenterPoints)\n",
    "                    crossedTrafficLightFlag=True\n",
    "                    boundingBoxIds.append([x, y, w, h, id])\n",
    "                    alreadyDetectedFlag = True\n",
    "                    break\n",
    "\n",
    "            # If a new road user is detected then a new tracking id is assigned to them\n",
    "            if alreadyDetectedFlag is False:\n",
    "                self.boundingBoxCenterPoints[self.roadUserTrackingId] = (centerX, centerY)\n",
    "                boundingBoxIds.append([x, y, w, h, self.roadUserTrackingId])\n",
    "                self.roadUserTrackingId += 1\n",
    "        \n",
    "        # Removing the unused road user tracking ids from the list of tracking ids\n",
    "        usedBoundingBoxCenterPoints = {}\n",
    "        for boundingBoxId in boundingBoxIds:\n",
    "            _, _, _, _, roadUserId = boundingBoxId\n",
    "            center = self.boundingBoxCenterPoints[roadUserId]\n",
    "            usedBoundingBoxCenterPoints[roadUserId] = center\n",
    "\n",
    "        # Update dictionary with IDs not used removed\n",
    "        self.boundingBoxCenterPoints = usedBoundingBoxCenterPoints.copy()\n",
    "        return boundingBoxIds,crossedTrafficLightFlag  "
   ]
  }
 ],
 "metadata": {
  "kernelspec": {
   "display_name": "Python 3",
   "language": "python",
   "name": "python3"
  },
  "language_info": {
   "codemirror_mode": {
    "name": "ipython",
    "version": 3
   },
   "file_extension": ".py",
   "mimetype": "text/x-python",
   "name": "python",
   "nbconvert_exporter": "python",
   "pygments_lexer": "ipython3",
   "version": "3.7.10"
  }
 },
 "nbformat": 4,
 "nbformat_minor": 5
}
